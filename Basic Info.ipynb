{
 "cells": [
  {
   "cell_type": "markdown",
   "metadata": {},
   "source": [
    "Establish imports and location-specific variables."
   ]
  },
  {
   "cell_type": "code",
   "execution_count": 53,
   "metadata": {},
   "outputs": [],
   "source": [
    "import json\n",
    "import os"
   ]
  },
  {
   "cell_type": "code",
   "execution_count": 54,
   "metadata": {},
   "outputs": [],
   "source": [
    "input_dir = '/Users/weale/data/covid/raw/'\n",
    "tmp_dir = '/Users/weale/data/covid/tmp/'\n",
    "output_dir = '/Users/weale/data/covid/out/'\n",
    "\n",
    "experiment = 'comm_use_subset/pdf_json/'\n",
    "\n",
    "#RUN ONCE PER EXPERIMENT DIRECTORY\n",
    "#os.makedirs(tmp_dir + experiment)\n",
    "\n",
    "input_path = input_dir + experiment\n",
    "tmp_path = tmp_dir + experiment\n",
    "output_path = output_dir + experiment"
   ]
  },
  {
   "cell_type": "markdown",
   "metadata": {},
   "source": [
    "== Extract ==\n",
    "\n",
    "Take the large json objects and extract the titles and abstracts for each document.\n",
    "\n",
    "This should provide a simple representation for the content, without requiring the full text documents."
   ]
  },
  {
   "cell_type": "code",
   "execution_count": 55,
   "metadata": {},
   "outputs": [],
   "source": [
    "fOUT = open(tmp_path + \"20200420_title_abstract_text.tsv\", \"w\")\n",
    "fCOUNT = open(tmp_path + \"20200420_title_abstract_count.txt\", \"w\")"
   ]
  },
  {
   "cell_type": "code",
   "execution_count": 56,
   "metadata": {},
   "outputs": [],
   "source": [
    "file_len = 0\n",
    "\n",
    "for filename in os.listdir(input_path):\n",
    "    with open(os.path.join(input_path, filename)) as f:\n",
    "        #print(f.name)\n",
    "        \n",
    "        #Load data from the file\n",
    "        parsed_data = json.load(f)\n",
    "        \n",
    "        #Get the ID of the paper\n",
    "        pID = parsed_data['paper_id']\n",
    "\n",
    "        #Get the paper title\n",
    "        tmp = parsed_data['metadata']\n",
    "        if len(tmp) > 0:\n",
    "            title = tmp.get('title')\n",
    "        \n",
    "        #Get the paper abstract\n",
    "        tmp = parsed_data['abstract']\n",
    "        if len(tmp) > 0:\n",
    "            tmp = tmp[0]\n",
    "            abstract = tmp.get('text')\n",
    "\n",
    "        #Combine into the output and print to the file\n",
    "        line = pID + '\\t' + title + '\\t' + abstract + '\\n'\n",
    "        fOUT.write(line)\n",
    "        \n",
    "        #Increment file length\n",
    "        file_len = file_len + 1\n",
    "    \n",
    "    f.close()\n",
    "fOUT.close()\n",
    "\n",
    "## Print the number of elements to another file\n",
    "fCOUNT.write(str(file_len))\n",
    "fCOUNT.close()"
   ]
  },
  {
   "cell_type": "markdown",
   "metadata": {},
   "source": [
    "== Create NLP Stuff =="
   ]
  },
  {
   "cell_type": "code",
   "execution_count": 57,
   "metadata": {},
   "outputs": [],
   "source": [
    "import scispacy\n",
    "import spacy\n",
    "\n",
    "nlp = spacy.load(\"en_core_sci_md\")"
   ]
  },
  {
   "cell_type": "code",
   "execution_count": 75,
   "metadata": {},
   "outputs": [
    {
     "name": "stdout",
     "output_type": "stream",
     "text": [
      "275\n",
      "1366\n"
     ]
    }
   ],
   "source": [
    "fIN = open(tmp_path + \"20200420_title_abstract_text.tsv\", \"r\")\n",
    "\n",
    "dim_title = 0\n",
    "dim_abstract = 0\n",
    "\n",
    "lines = fIN.readlines()\n",
    "for line in lines:\n",
    "    #print(line)\n",
    "    \n",
    "    elements = line.split('\\t')\n",
    "    #tokens = nlp(elements[1])\n",
    "    \n",
    "    len_title = len(nlp(elements[1]))\n",
    "    len_abstract = len(nlp(elements[2]))\n",
    "    \n",
    "    if dim_title < len_title:\n",
    "        dim_title = len_title\n",
    "        \n",
    "    if dim_abstract < len_abstract:\n",
    "        dim_abstract = len_abstract\n",
    "\n",
    "fIN.close()\n",
    "\n",
    "print(dim_title)\n",
    "print(dim_abstract)"
   ]
  },
  {
   "cell_type": "code",
   "execution_count": 76,
   "metadata": {},
   "outputs": [
    {
     "name": "stdout",
     "output_type": "stream",
     "text": [
      "9557\n"
     ]
    }
   ],
   "source": [
    "fIN = open(tmp_path + \"20200420_title_abstract_count.txt\", \"r\")\n",
    "numlines = int(fIN.readline())\n",
    "fIN.close\n",
    "\n",
    "print(numlines)"
   ]
  },
  {
   "cell_type": "code",
   "execution_count": 77,
   "metadata": {},
   "outputs": [],
   "source": [
    "import numpy as np\n",
    "\n",
    "titleArr = np.zeros((numlines, dim_title, 200))\n",
    "abstractArr = np.zeros((numlines, dim_abstract, 200))"
   ]
  },
  {
   "cell_type": "code",
   "execution_count": 80,
   "metadata": {},
   "outputs": [
    {
     "name": "stdout",
     "output_type": "stream",
     "text": [
      "9557\n"
     ]
    }
   ],
   "source": [
    "fIN = open(tmp_path + \"20200420_title_abstract_text.tsv\", \"r\")\n",
    "\n",
    "i=0\n",
    "lines = fIN.readlines()\n",
    "for line in lines:\n",
    "    elements = line.split('\\t')\n",
    "\n",
    "    processed = nlp(elements[1])\n",
    "    j=0\n",
    "    for token in processed:\n",
    "        titleArr[i,j,:] = token.vector\n",
    "        j+=1\n",
    "        \n",
    "    processed = nlp(elements[2])    \n",
    "    j=0\n",
    "    for token in processed:\n",
    "        abstractArr[i,j,:] = token.vector\n",
    "        j+=1\n",
    "        \n",
    "    i+=1\n",
    "fIN.close()\n",
    "print(i)"
   ]
  },
  {
   "cell_type": "code",
   "execution_count": 81,
   "metadata": {},
   "outputs": [
    {
     "name": "stdout",
     "output_type": "stream",
     "text": [
      "[-2.04027995e-01  3.53692994e-02  2.17341006e-01 -1.41967997e-01\n",
      "  2.21268997e-01 -1.31978005e-01  1.94425002e-01 -7.84751959e-03\n",
      " -8.55292007e-03  6.28777966e-02 -3.96941006e-02 -9.26643983e-02\n",
      " -4.14449014e-02 -9.75648984e-02 -2.07541004e-01 -1.99394003e-01\n",
      " -1.09490998e-01 -3.92311990e-01  2.31323004e-01  4.59965989e-02\n",
      " -6.67273030e-02  1.57240003e-01  1.97433993e-01 -1.19071998e-01\n",
      " -1.70100003e-01 -1.33843005e-01  1.01182997e-01 -1.53658003e-01\n",
      " -1.69984996e-01  2.69062012e-01 -1.23778000e-01 -1.90770000e-01\n",
      "  2.26792004e-02 -5.71665987e-02  2.31070995e-01  1.70316994e-01\n",
      " -2.01279998e-01  6.42450973e-02 -2.13558003e-01 -3.47654000e-02\n",
      " -7.45249018e-02 -9.79702026e-02 -5.53206988e-02 -2.43674009e-03\n",
      "  1.37740999e-01 -2.28818998e-01 -2.13365003e-01 -1.40552998e-01\n",
      "  9.11056027e-02 -2.03635007e-01 -2.61175004e-03  2.16067001e-01\n",
      "  9.76639017e-02  3.51377986e-02  1.04653999e-01  8.44338983e-02\n",
      " -4.71705012e-02  1.72894001e-01  6.75649010e-03 -1.06210001e-01\n",
      "  2.48066001e-02 -5.55003993e-02  4.29306999e-02  1.98815003e-01\n",
      "  5.50783016e-02  3.54022998e-03  2.50876008e-04 -9.97932032e-02\n",
      "  5.55970008e-03  8.68773982e-02  2.19460996e-03 -1.46118000e-01\n",
      " -1.28132999e-01  1.60139993e-01  1.83616001e-02  3.34591009e-02\n",
      "  2.28125006e-01 -4.53536995e-02  2.60809995e-02 -1.03648998e-01\n",
      "  1.13504000e-01 -5.40498011e-02 -2.13258006e-02 -8.09440985e-02\n",
      " -1.92249000e-01  1.35746002e-01 -8.06145966e-02 -8.84865969e-02\n",
      " -9.54603031e-02  3.40127982e-02 -8.14495981e-02 -1.96419001e-01\n",
      " -7.79616013e-02  7.63268024e-02  2.06637997e-02 -7.31645003e-02\n",
      "  6.08570985e-02 -1.51986003e-01  2.60955002e-02  1.37208000e-01\n",
      "  1.22581003e-02  2.11762995e-01  1.08896997e-02 -8.01836029e-02\n",
      "  1.16407000e-01  7.16267005e-02  7.40733966e-02  9.17565003e-02\n",
      "  1.86884997e-03 -3.32905017e-02  1.15769003e-02 -2.65413010e-03\n",
      "  1.18538002e-02 -1.14289999e-01 -1.10578999e-01  1.19537003e-01\n",
      "  1.25139002e-02 -6.94321990e-02 -6.26875013e-02  1.12912998e-01\n",
      "  2.55351007e-01  3.83463991e-03 -6.18290016e-03 -2.48499006e-01\n",
      "  5.28866015e-02 -7.99345970e-02 -2.60053992e-01 -1.42458007e-01\n",
      " -1.86093003e-01  8.60190019e-02 -7.13459998e-02 -2.01546997e-02\n",
      "  1.67860001e-01 -6.10300004e-02  1.77340992e-02  7.24511966e-02\n",
      " -3.41776013e-01 -5.31267002e-02 -1.05287999e-01  5.81246018e-02\n",
      " -4.88712005e-02 -7.65290037e-02 -5.94585985e-02  1.40913993e-01\n",
      " -6.91947993e-03  1.70620993e-01  1.01781003e-01 -1.59500003e-01\n",
      "  1.33747995e-01  6.66837990e-02  1.30584002e-01  1.20805003e-01\n",
      "  1.66086003e-01 -6.69519976e-02  1.26514003e-01 -1.03318997e-01\n",
      "  2.81412989e-01  4.92807012e-04 -1.89225003e-02 -9.95351002e-02\n",
      "  6.31256029e-02 -3.51158008e-02  3.81699018e-02 -3.18517014e-02\n",
      " -8.18530023e-02 -6.34500980e-02  5.60372993e-02 -2.83656009e-02\n",
      "  2.12404996e-01 -2.87679001e-03 -1.19914003e-02 -1.82380993e-02\n",
      "  6.77384995e-03 -2.90760994e-02  2.15010002e-01 -2.11245008e-02\n",
      " -2.14881003e-02 -1.86630994e-01 -1.80902004e-01  1.22655998e-03\n",
      " -7.73530975e-02  3.37675989e-01  6.72542006e-02 -1.12869002e-01\n",
      "  1.73877999e-01 -8.73531997e-02  5.09165004e-02 -1.66614000e-02\n",
      "  2.42572993e-01  8.17252975e-03 -2.33403996e-01 -2.57804990e-01\n",
      " -2.05247000e-01 -1.05301000e-01  1.47484004e-01 -2.65668005e-01\n",
      "  3.28891017e-02  1.46860003e-01  6.39203982e-03 -6.41689971e-02]\n"
     ]
    }
   ],
   "source": [
    "print(titleArr[6000][1])"
   ]
  },
  {
   "cell_type": "code",
   "execution_count": null,
   "metadata": {},
   "outputs": [],
   "source": []
  },
  {
   "cell_type": "code",
   "execution_count": 82,
   "metadata": {},
   "outputs": [],
   "source": [
    "from numpy import asarray\n",
    "from numpy import save\n",
    "\n",
    "save(output_path + \"20200420_title_vectors.npy\", titleArr)\n",
    "save(output_path + \"20200420_abstract_vectors.npy\", abstractArr)"
   ]
  },
  {
   "cell_type": "code",
   "execution_count": null,
   "metadata": {},
   "outputs": [],
   "source": []
  }
 ],
 "metadata": {
  "kernelspec": {
   "display_name": "Python [conda env:pytorch] *",
   "language": "python",
   "name": "conda-env-pytorch-py"
  },
  "language_info": {
   "codemirror_mode": {
    "name": "ipython",
    "version": 3
   },
   "file_extension": ".py",
   "mimetype": "text/x-python",
   "name": "python",
   "nbconvert_exporter": "python",
   "pygments_lexer": "ipython3",
   "version": "3.7.7"
  }
 },
 "nbformat": 4,
 "nbformat_minor": 4
}
